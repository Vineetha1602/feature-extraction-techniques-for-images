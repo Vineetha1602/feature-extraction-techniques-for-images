{
 "cells": [
  {
   "cell_type": "markdown",
   "id": "5e838faf",
   "metadata": {},
   "source": [
    "### Load an image in python"
   ]
  },
  {
   "cell_type": "markdown",
   "id": "b48b4c14",
   "metadata": {},
   "source": [
    "#### Using OpenCV(cv2)\n",
    "\n",
    "- Pros:\n",
    "\n",
    "Fast and efficient\n",
    "\n",
    "Supports many image formats\n",
    "\n",
    "Tons of image processing functions built-in\n",
    "\n",
    "- Cons:\n",
    "\n",
    "Loads images in BGR format by default (can be confusing when mixing with libraries expecting RGB)\n",
    "\n",
    "Requires manual grayscale conversion"
   ]
  },
  {
   "cell_type": "code",
   "execution_count": 1,
   "id": "e5acb163",
   "metadata": {},
   "outputs": [],
   "source": [
    "import cv2 as cv\n",
    "# pip install opencv-python\n",
    "\n",
    "image_path = 'cancer.jpg'\n",
    "image = cv.imread(image_path) # Load an image in BGR format\n",
    "gray_image = cv.cvtColor(image, cv.COLOR_BGR2GRAY) # Convert to grayscale\n",
    "\n",
    "# The image is read directly in grayscale\n",
    "gray_image = cv.imread(image_path, cv.IMREAD_GRAYSCALE)\n"
   ]
  },
  {
   "cell_type": "markdown",
   "id": "0d90a6fd",
   "metadata": {},
   "source": [
    "#### Using scikit-image\n",
    "\n",
    "- Pros:\n",
    "\n",
    "Clean API and rich functionality for analysis\n",
    "\n",
    "Works well with NumPy and matplotlib\n",
    "\n",
    "Loads in RGB format\n",
    "\n",
    "- Cons:\n",
    "\n",
    "A bit slower than OpenCV for real-time use\n",
    "\n",
    "Fewer tools for general-purpose computer vision tasks"
   ]
  },
  {
   "cell_type": "code",
   "execution_count": null,
   "id": "11ba2db1",
   "metadata": {},
   "outputs": [],
   "source": [
    "from skimage import io, color\n",
    "# pip install scikit-image\n",
    "\n",
    "image = io.imread('cancer.jpg') # Load an image in BGR format\n",
    "gray_image = color.rgb2gray(image) # Convert to grayscale"
   ]
  },
  {
   "cell_type": "markdown",
   "id": "93a47a87",
   "metadata": {},
   "source": [
    "#### Using PIL(Pillow)\n",
    "\n",
    "- Pros:\n",
    "\n",
    "Easy to use and lightweight\n",
    "\n",
    "Integrates well with NumPy\n",
    "\n",
    "Can directly convert to grayscale or other modes\n",
    "\n",
    "- Cons:\n",
    "\n",
    "Limited compared to OpenCV or skimage in advanced processing\n",
    "\n",
    "Slower for large-scale or real-time work"
   ]
  },
  {
   "cell_type": "code",
   "execution_count": 10,
   "id": "9de4e0cc",
   "metadata": {},
   "outputs": [],
   "source": [
    "from PIL import Image\n",
    "import numpy as np\n",
    "\n",
    "image = Image.open('cancer.jpg').convert('L') # Convert to grayscale directly\n",
    "image_np = np.array(image) # Convert to numpy array if needed"
   ]
  },
  {
   "cell_type": "markdown",
   "id": "7800d656",
   "metadata": {},
   "source": [
    "#### Using matplotlib (matplotlib.pyplot.imread)\n",
    "\n",
    "- Pros:\n",
    "\n",
    "Simple, especially for visualization\n",
    "\n",
    "Integrates directly with plotting functions\n",
    "\n",
    "- Cons:\n",
    "\n",
    "Not meant for serious processing\n",
    "\n",
    "May not support all formats (especially JPEG with certain backends)"
   ]
  },
  {
   "cell_type": "code",
   "execution_count": 12,
   "id": "e641ba1b",
   "metadata": {},
   "outputs": [],
   "source": [
    "import matplotlib.pyplot as plt\n",
    "\n",
    "image = plt.imread('cancer.jpg') # Returns numpy array"
   ]
  },
  {
   "cell_type": "markdown",
   "id": "4e7ebc18",
   "metadata": {},
   "source": [
    "#### Using PyTorch\n",
    "\n",
    "Converts the image into a torch.Tensor with shape: ‘C‘,‘H‘,‘W‘ → Channels, Height, Width\n",
    "(as opposed to NumPy which uses ‘H‘,‘W‘,‘C‘)\n",
    "\n",
    "Also normalizes pixel values from the range 0,255 → 0.0,1.0 (float32)"
   ]
  },
  {
   "cell_type": "code",
   "execution_count": null,
   "id": "c2498498",
   "metadata": {},
   "outputs": [],
   "source": [
    "from torchvision import transforms\n",
    "from PIL import Image\n",
    "\n",
    "image = Image.open('cancer.jpg')\n",
    "transform = transforms.ToTensor()\n",
    "tensor_image = transform(image)"
   ]
  }
 ],
 "metadata": {
  "kernelspec": {
   "display_name": "fevenv",
   "language": "python",
   "name": "python3"
  },
  "language_info": {
   "codemirror_mode": {
    "name": "ipython",
    "version": 3
   },
   "file_extension": ".py",
   "mimetype": "text/x-python",
   "name": "python",
   "nbconvert_exporter": "python",
   "pygments_lexer": "ipython3",
   "version": "3.10.4"
  }
 },
 "nbformat": 4,
 "nbformat_minor": 5
}
